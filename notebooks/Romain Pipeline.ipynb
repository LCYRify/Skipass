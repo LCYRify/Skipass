{
 "cells": [
  {
   "cell_type": "markdown",
   "id": "587e155f-4221-4cd1-9045-c71a09467539",
   "metadata": {},
   "source": [
    "# Imports"
   ]
  },
  {
   "cell_type": "code",
   "execution_count": 136,
   "id": "33c3ce8c-2c8e-461b-96b9-6290e3ca2b47",
   "metadata": {},
   "outputs": [],
   "source": [
    "import pandas as pd\n",
    "import numpy as np\n",
    "from sklearn.pipeline import Pipeline\n",
    "from sklearn.impute import SimpleImputer \n",
    "from sklearn.preprocessing import StandardScaler, RobustScaler, MinMaxScaler, OneHotEncoder, FunctionTransformer\n",
    "from sklearn.compose import ColumnTransformer\n",
    "from sklearn import set_config; set_config(display='diagram')\n"
   ]
  },
  {
   "cell_type": "code",
   "execution_count": 137,
   "id": "9352a9f9-0776-4ea5-9db4-8918cb16820e",
   "metadata": {},
   "outputs": [],
   "source": [
    "# ns = not scaled / ss = standard scaler / rs = robust scaler / ms = minmax scaler\n",
    "# nt = not typed / dat = datetime / int = integer / flt = float\n",
    "\n",
    "\n",
    "column_dict = {\n",
    "    'date':['ns','dat'],\n",
    "    'numer_sta':['ns','nt'],\n",
    "    'Latitude':['ns','nt'],\n",
    "    'Longitude':['ns','nt'],\n",
    "    'Altitude':['ns','int'],\n",
    "    'pmer':['ss','int'],\n",
    "    'dd':['ss','int'],\n",
    "    'ff':['ss','flt'],\n",
    "    't':['ss','flt'],\n",
    "    'u':['ss','int'],\n",
    "    'ssfrai':['rs','flt'],\n",
    "    'rr3':['ms','flt']\n",
    "}\n",
    "\n",
    "Dtype_col = {'int':[],'flt':[],'dat':[]}\n",
    "for i in column_dict:\n",
    "    if column_dict[i][1] == 'int':\n",
    "        Dtype_col['int'].append(i)\n",
    "    elif column_dict[i][1] == 'flt':\n",
    "        Dtype_col['flt'].append(i)\n",
    "    elif column_dict[i][1] == 'dat':\n",
    "        Dtype_col['dat'].append(i)  \n",
    "\n",
    "Not_encoded = ['date','numer_sta','Latitude','Lontitude','Altitude']\n",
    "Num_col_standard = ['pmer','dd','ff','t','u']\n",
    "Num_col_robust = ['ssfrai']\n",
    "Num_col_minmax = ['rr3']\n",
    "Cat_col = []\n",
    "Col_select = Not_encoded + Num_col_standard + Num_col_robust + Num_col_minmax + Cat_col\n",
    "Stations = ['7481','7650','7661','7690','7591','7577','7643']"
   ]
  },
  {
   "cell_type": "code",
   "execution_count": 42,
   "id": "158a77b7-b29f-46bf-9513-99b2ad0f1364",
   "metadata": {},
   "outputs": [],
   "source": [
    "#df_synop = deva_class\n",
    "#df_synop = df_synop[df_synop.numer_sta.isin(stations.ID)]"
   ]
  },
  {
   "cell_type": "markdown",
   "id": "2d78462f-ae88-43ce-86b1-850f61d25454",
   "metadata": {},
   "source": [
    "# Selector"
   ]
  },
  {
   "cell_type": "code",
   "execution_count": 139,
   "id": "e3bd5621-72e2-429e-93c7-e4198d0cfae4",
   "metadata": {},
   "outputs": [],
   "source": [
    "Selector = Pipeline([\n",
    "    (\"selector\", ColumnTransformer([(\"selector\", \"passthrough\", Col_select)], remainder=\"drop\"))\n",
    "])"
   ]
  },
  {
   "cell_type": "code",
   "execution_count": 140,
   "id": "808cc87f-24fa-4eeb-8479-f9d75a3fee6d",
   "metadata": {},
   "outputs": [
    {
     "data": {
      "text/html": [
       "<style>#sk-69f28d7c-f63b-45c8-8070-ceae8701a7d1 {color: black;background-color: white;}#sk-69f28d7c-f63b-45c8-8070-ceae8701a7d1 pre{padding: 0;}#sk-69f28d7c-f63b-45c8-8070-ceae8701a7d1 div.sk-toggleable {background-color: white;}#sk-69f28d7c-f63b-45c8-8070-ceae8701a7d1 label.sk-toggleable__label {cursor: pointer;display: block;width: 100%;margin-bottom: 0;padding: 0.2em 0.3em;box-sizing: border-box;text-align: center;}#sk-69f28d7c-f63b-45c8-8070-ceae8701a7d1 div.sk-toggleable__content {max-height: 0;max-width: 0;overflow: hidden;text-align: left;background-color: #f0f8ff;}#sk-69f28d7c-f63b-45c8-8070-ceae8701a7d1 div.sk-toggleable__content pre {margin: 0.2em;color: black;border-radius: 0.25em;background-color: #f0f8ff;}#sk-69f28d7c-f63b-45c8-8070-ceae8701a7d1 input.sk-toggleable__control:checked~div.sk-toggleable__content {max-height: 200px;max-width: 100%;overflow: auto;}#sk-69f28d7c-f63b-45c8-8070-ceae8701a7d1 div.sk-estimator input.sk-toggleable__control:checked~label.sk-toggleable__label {background-color: #d4ebff;}#sk-69f28d7c-f63b-45c8-8070-ceae8701a7d1 div.sk-label input.sk-toggleable__control:checked~label.sk-toggleable__label {background-color: #d4ebff;}#sk-69f28d7c-f63b-45c8-8070-ceae8701a7d1 input.sk-hidden--visually {border: 0;clip: rect(1px 1px 1px 1px);clip: rect(1px, 1px, 1px, 1px);height: 1px;margin: -1px;overflow: hidden;padding: 0;position: absolute;width: 1px;}#sk-69f28d7c-f63b-45c8-8070-ceae8701a7d1 div.sk-estimator {font-family: monospace;background-color: #f0f8ff;margin: 0.25em 0.25em;border: 1px dotted black;border-radius: 0.25em;box-sizing: border-box;}#sk-69f28d7c-f63b-45c8-8070-ceae8701a7d1 div.sk-estimator:hover {background-color: #d4ebff;}#sk-69f28d7c-f63b-45c8-8070-ceae8701a7d1 div.sk-parallel-item::after {content: \"\";width: 100%;border-bottom: 1px solid gray;flex-grow: 1;}#sk-69f28d7c-f63b-45c8-8070-ceae8701a7d1 div.sk-label:hover label.sk-toggleable__label {background-color: #d4ebff;}#sk-69f28d7c-f63b-45c8-8070-ceae8701a7d1 div.sk-serial::before {content: \"\";position: absolute;border-left: 1px solid gray;box-sizing: border-box;top: 2em;bottom: 0;left: 50%;}#sk-69f28d7c-f63b-45c8-8070-ceae8701a7d1 div.sk-serial {display: flex;flex-direction: column;align-items: center;background-color: white;}#sk-69f28d7c-f63b-45c8-8070-ceae8701a7d1 div.sk-item {z-index: 1;}#sk-69f28d7c-f63b-45c8-8070-ceae8701a7d1 div.sk-parallel {display: flex;align-items: stretch;justify-content: center;background-color: white;}#sk-69f28d7c-f63b-45c8-8070-ceae8701a7d1 div.sk-parallel-item {display: flex;flex-direction: column;position: relative;background-color: white;}#sk-69f28d7c-f63b-45c8-8070-ceae8701a7d1 div.sk-parallel-item:first-child::after {align-self: flex-end;width: 50%;}#sk-69f28d7c-f63b-45c8-8070-ceae8701a7d1 div.sk-parallel-item:last-child::after {align-self: flex-start;width: 50%;}#sk-69f28d7c-f63b-45c8-8070-ceae8701a7d1 div.sk-parallel-item:only-child::after {width: 0;}#sk-69f28d7c-f63b-45c8-8070-ceae8701a7d1 div.sk-dashed-wrapped {border: 1px dashed gray;margin: 0.2em;box-sizing: border-box;padding-bottom: 0.1em;background-color: white;position: relative;}#sk-69f28d7c-f63b-45c8-8070-ceae8701a7d1 div.sk-label label {font-family: monospace;font-weight: bold;background-color: white;display: inline-block;line-height: 1.2em;}#sk-69f28d7c-f63b-45c8-8070-ceae8701a7d1 div.sk-label-container {position: relative;z-index: 2;text-align: center;}#sk-69f28d7c-f63b-45c8-8070-ceae8701a7d1 div.sk-container {display: inline-block;position: relative;}</style><div id=\"sk-69f28d7c-f63b-45c8-8070-ceae8701a7d1\" class\"sk-top-container\"><div class=\"sk-container\"><div class=\"sk-item sk-dashed-wrapped\"><div class=\"sk-label-container\"><div class=\"sk-label sk-toggleable\"><input class=\"sk-toggleable__control sk-hidden--visually\" id=\"07c6734a-e3d3-48a3-9abc-87c695d1a780\" type=\"checkbox\" ><label class=\"sk-toggleable__label\" for=\"07c6734a-e3d3-48a3-9abc-87c695d1a780\">Pipeline</label><div class=\"sk-toggleable__content\"><pre>Pipeline(steps=[('selector',\n",
       "                 ColumnTransformer(transformers=[('selector', 'passthrough',\n",
       "                                                  ['date', 'numer_sta',\n",
       "                                                   'Latitude', 'Lontitude',\n",
       "                                                   'Altitude', 'pmer', 'dd',\n",
       "                                                   'ff', 't', 'u', 'ssfrai',\n",
       "                                                   'rr3'])]))])</pre></div></div></div><div class=\"sk-serial\"><div class=\"sk-item sk-dashed-wrapped\"><div class=\"sk-label-container\"><div class=\"sk-label sk-toggleable\"><input class=\"sk-toggleable__control sk-hidden--visually\" id=\"75ffb119-7b4e-41c1-b081-20fc9c71b629\" type=\"checkbox\" ><label class=\"sk-toggleable__label\" for=\"75ffb119-7b4e-41c1-b081-20fc9c71b629\">selector: ColumnTransformer</label><div class=\"sk-toggleable__content\"><pre>ColumnTransformer(transformers=[('selector', 'passthrough',\n",
       "                                 ['date', 'numer_sta', 'Latitude', 'Lontitude',\n",
       "                                  'Altitude', 'pmer', 'dd', 'ff', 't', 'u',\n",
       "                                  'ssfrai', 'rr3'])])</pre></div></div></div><div class=\"sk-parallel\"><div class=\"sk-parallel-item\"><div class=\"sk-item\"><div class=\"sk-label-container\"><div class=\"sk-label sk-toggleable\"><input class=\"sk-toggleable__control sk-hidden--visually\" id=\"22fa15e3-d74a-4477-9cd1-420eeb240392\" type=\"checkbox\" ><label class=\"sk-toggleable__label\" for=\"22fa15e3-d74a-4477-9cd1-420eeb240392\">selector</label><div class=\"sk-toggleable__content\"><pre>['date', 'numer_sta', 'Latitude', 'Lontitude', 'Altitude', 'pmer', 'dd', 'ff', 't', 'u', 'ssfrai', 'rr3']</pre></div></div></div><div class=\"sk-serial\"><div class=\"sk-item\"><div class=\"sk-estimator sk-toggleable\"><input class=\"sk-toggleable__control sk-hidden--visually\" id=\"82d426e7-4996-4b0a-8b9a-af567d089fb4\" type=\"checkbox\" ><label class=\"sk-toggleable__label\" for=\"82d426e7-4996-4b0a-8b9a-af567d089fb4\">passthrough</label><div class=\"sk-toggleable__content\"><pre>passthrough</pre></div></div></div></div></div></div></div></div></div></div></div></div>"
      ],
      "text/plain": [
       "Pipeline(steps=[('selector',\n",
       "                 ColumnTransformer(transformers=[('selector', 'passthrough',\n",
       "                                                  ['date', 'numer_sta',\n",
       "                                                   'Latitude', 'Lontitude',\n",
       "                                                   'Altitude', 'pmer', 'dd',\n",
       "                                                   'ff', 't', 'u', 'ssfrai',\n",
       "                                                   'rr3'])]))])"
      ]
     },
     "execution_count": 140,
     "metadata": {},
     "output_type": "execute_result"
    }
   ],
   "source": [
    "Selector"
   ]
  },
  {
   "cell_type": "markdown",
   "id": "d749bd67-81f8-4a99-8421-81d3346973f6",
   "metadata": {},
   "source": [
    "# Dtype transformer"
   ]
  },
  {
   "cell_type": "code",
   "execution_count": 141,
   "id": "3393f91b-d639-419d-9f6b-9d63033a4c42",
   "metadata": {},
   "outputs": [],
   "source": [
    "def to_int(x):\n",
    "    return pd.DataFrame(x).astype(int)\n",
    "def to_float(x):\n",
    "    return pd.DataFrame(x).astype(float)\n",
    "def to_date(x):\n",
    "    return pd.to_datetime(x,format='%Y%m%d%H%M%S',errors='coerce')"
   ]
  },
  {
   "cell_type": "code",
   "execution_count": 142,
   "id": "56c7aa84-fe4d-4b60-9d94-006e277bd889",
   "metadata": {},
   "outputs": [],
   "source": [
    "tr_int = FunctionTransformer(to_int)\n",
    "tr_float = FunctionTransformer(to_float)\n",
    "tr_date = FunctionTransformer(to_date)"
   ]
  },
  {
   "cell_type": "code",
   "execution_count": 144,
   "id": "5b90d7ae-66fe-447a-a36d-0e1d6bfadd1c",
   "metadata": {},
   "outputs": [],
   "source": [
    "Dtyper = ColumnTransformer([\n",
    "    ('to int',tr_int,Dtype_col['int']),\n",
    "    ('to float',tr_float,Dtype_col['flt']),\n",
    "    ('to date',tr_date,Dtype_col['dat'])\n",
    "])"
   ]
  },
  {
   "cell_type": "code",
   "execution_count": 145,
   "id": "8cfde701-7df0-4404-88ac-14886b9eb59f",
   "metadata": {},
   "outputs": [
    {
     "data": {
      "text/html": [
       "<style>#sk-f6d2a462-9633-4ff0-ba14-1a9c105fda93 {color: black;background-color: white;}#sk-f6d2a462-9633-4ff0-ba14-1a9c105fda93 pre{padding: 0;}#sk-f6d2a462-9633-4ff0-ba14-1a9c105fda93 div.sk-toggleable {background-color: white;}#sk-f6d2a462-9633-4ff0-ba14-1a9c105fda93 label.sk-toggleable__label {cursor: pointer;display: block;width: 100%;margin-bottom: 0;padding: 0.2em 0.3em;box-sizing: border-box;text-align: center;}#sk-f6d2a462-9633-4ff0-ba14-1a9c105fda93 div.sk-toggleable__content {max-height: 0;max-width: 0;overflow: hidden;text-align: left;background-color: #f0f8ff;}#sk-f6d2a462-9633-4ff0-ba14-1a9c105fda93 div.sk-toggleable__content pre {margin: 0.2em;color: black;border-radius: 0.25em;background-color: #f0f8ff;}#sk-f6d2a462-9633-4ff0-ba14-1a9c105fda93 input.sk-toggleable__control:checked~div.sk-toggleable__content {max-height: 200px;max-width: 100%;overflow: auto;}#sk-f6d2a462-9633-4ff0-ba14-1a9c105fda93 div.sk-estimator input.sk-toggleable__control:checked~label.sk-toggleable__label {background-color: #d4ebff;}#sk-f6d2a462-9633-4ff0-ba14-1a9c105fda93 div.sk-label input.sk-toggleable__control:checked~label.sk-toggleable__label {background-color: #d4ebff;}#sk-f6d2a462-9633-4ff0-ba14-1a9c105fda93 input.sk-hidden--visually {border: 0;clip: rect(1px 1px 1px 1px);clip: rect(1px, 1px, 1px, 1px);height: 1px;margin: -1px;overflow: hidden;padding: 0;position: absolute;width: 1px;}#sk-f6d2a462-9633-4ff0-ba14-1a9c105fda93 div.sk-estimator {font-family: monospace;background-color: #f0f8ff;margin: 0.25em 0.25em;border: 1px dotted black;border-radius: 0.25em;box-sizing: border-box;}#sk-f6d2a462-9633-4ff0-ba14-1a9c105fda93 div.sk-estimator:hover {background-color: #d4ebff;}#sk-f6d2a462-9633-4ff0-ba14-1a9c105fda93 div.sk-parallel-item::after {content: \"\";width: 100%;border-bottom: 1px solid gray;flex-grow: 1;}#sk-f6d2a462-9633-4ff0-ba14-1a9c105fda93 div.sk-label:hover label.sk-toggleable__label {background-color: #d4ebff;}#sk-f6d2a462-9633-4ff0-ba14-1a9c105fda93 div.sk-serial::before {content: \"\";position: absolute;border-left: 1px solid gray;box-sizing: border-box;top: 2em;bottom: 0;left: 50%;}#sk-f6d2a462-9633-4ff0-ba14-1a9c105fda93 div.sk-serial {display: flex;flex-direction: column;align-items: center;background-color: white;}#sk-f6d2a462-9633-4ff0-ba14-1a9c105fda93 div.sk-item {z-index: 1;}#sk-f6d2a462-9633-4ff0-ba14-1a9c105fda93 div.sk-parallel {display: flex;align-items: stretch;justify-content: center;background-color: white;}#sk-f6d2a462-9633-4ff0-ba14-1a9c105fda93 div.sk-parallel-item {display: flex;flex-direction: column;position: relative;background-color: white;}#sk-f6d2a462-9633-4ff0-ba14-1a9c105fda93 div.sk-parallel-item:first-child::after {align-self: flex-end;width: 50%;}#sk-f6d2a462-9633-4ff0-ba14-1a9c105fda93 div.sk-parallel-item:last-child::after {align-self: flex-start;width: 50%;}#sk-f6d2a462-9633-4ff0-ba14-1a9c105fda93 div.sk-parallel-item:only-child::after {width: 0;}#sk-f6d2a462-9633-4ff0-ba14-1a9c105fda93 div.sk-dashed-wrapped {border: 1px dashed gray;margin: 0.2em;box-sizing: border-box;padding-bottom: 0.1em;background-color: white;position: relative;}#sk-f6d2a462-9633-4ff0-ba14-1a9c105fda93 div.sk-label label {font-family: monospace;font-weight: bold;background-color: white;display: inline-block;line-height: 1.2em;}#sk-f6d2a462-9633-4ff0-ba14-1a9c105fda93 div.sk-label-container {position: relative;z-index: 2;text-align: center;}#sk-f6d2a462-9633-4ff0-ba14-1a9c105fda93 div.sk-container {display: inline-block;position: relative;}</style><div id=\"sk-f6d2a462-9633-4ff0-ba14-1a9c105fda93\" class\"sk-top-container\"><div class=\"sk-container\"><div class=\"sk-item sk-dashed-wrapped\"><div class=\"sk-label-container\"><div class=\"sk-label sk-toggleable\"><input class=\"sk-toggleable__control sk-hidden--visually\" id=\"111cfd20-9266-4b7f-978b-24c1e6d72148\" type=\"checkbox\" ><label class=\"sk-toggleable__label\" for=\"111cfd20-9266-4b7f-978b-24c1e6d72148\">ColumnTransformer</label><div class=\"sk-toggleable__content\"><pre>ColumnTransformer(transformers=[('to int',\n",
       "                                 FunctionTransformer(func=<function to_int at 0x7eff2a32d4c0>),\n",
       "                                 ['Altitude', 'pmer', 'dd', 'u']),\n",
       "                                ('to float',\n",
       "                                 FunctionTransformer(func=<function to_float at 0x7eff2a1d6670>),\n",
       "                                 ['ff', 't', 'ssfrai', 'rr3']),\n",
       "                                ('to date',\n",
       "                                 FunctionTransformer(func=<function to_date at 0x7eff2ab57b80>),\n",
       "                                 ['date'])])</pre></div></div></div><div class=\"sk-parallel\"><div class=\"sk-parallel-item\"><div class=\"sk-item\"><div class=\"sk-label-container\"><div class=\"sk-label sk-toggleable\"><input class=\"sk-toggleable__control sk-hidden--visually\" id=\"7dd16cd7-829c-4f5f-a0dc-70b86188b4f5\" type=\"checkbox\" ><label class=\"sk-toggleable__label\" for=\"7dd16cd7-829c-4f5f-a0dc-70b86188b4f5\">to int</label><div class=\"sk-toggleable__content\"><pre>['Altitude', 'pmer', 'dd', 'u']</pre></div></div></div><div class=\"sk-serial\"><div class=\"sk-item\"><div class=\"sk-estimator sk-toggleable\"><input class=\"sk-toggleable__control sk-hidden--visually\" id=\"aefd7c25-1980-4571-bf57-40b535873b94\" type=\"checkbox\" ><label class=\"sk-toggleable__label\" for=\"aefd7c25-1980-4571-bf57-40b535873b94\">FunctionTransformer</label><div class=\"sk-toggleable__content\"><pre>FunctionTransformer(func=<function to_int at 0x7eff2a32d4c0>)</pre></div></div></div></div></div></div><div class=\"sk-parallel-item\"><div class=\"sk-item\"><div class=\"sk-label-container\"><div class=\"sk-label sk-toggleable\"><input class=\"sk-toggleable__control sk-hidden--visually\" id=\"7f1b5d7c-0d41-4d47-8ff5-b17c9213153e\" type=\"checkbox\" ><label class=\"sk-toggleable__label\" for=\"7f1b5d7c-0d41-4d47-8ff5-b17c9213153e\">to float</label><div class=\"sk-toggleable__content\"><pre>['ff', 't', 'ssfrai', 'rr3']</pre></div></div></div><div class=\"sk-serial\"><div class=\"sk-item\"><div class=\"sk-estimator sk-toggleable\"><input class=\"sk-toggleable__control sk-hidden--visually\" id=\"3242305a-a017-499d-8cad-d46dbe4229e4\" type=\"checkbox\" ><label class=\"sk-toggleable__label\" for=\"3242305a-a017-499d-8cad-d46dbe4229e4\">FunctionTransformer</label><div class=\"sk-toggleable__content\"><pre>FunctionTransformer(func=<function to_float at 0x7eff2a1d6670>)</pre></div></div></div></div></div></div><div class=\"sk-parallel-item\"><div class=\"sk-item\"><div class=\"sk-label-container\"><div class=\"sk-label sk-toggleable\"><input class=\"sk-toggleable__control sk-hidden--visually\" id=\"461cba23-084d-4a9c-83c6-6b089b586554\" type=\"checkbox\" ><label class=\"sk-toggleable__label\" for=\"461cba23-084d-4a9c-83c6-6b089b586554\">to date</label><div class=\"sk-toggleable__content\"><pre>['date']</pre></div></div></div><div class=\"sk-serial\"><div class=\"sk-item\"><div class=\"sk-estimator sk-toggleable\"><input class=\"sk-toggleable__control sk-hidden--visually\" id=\"88a418e6-42e0-453f-9dd7-43df1ee22afc\" type=\"checkbox\" ><label class=\"sk-toggleable__label\" for=\"88a418e6-42e0-453f-9dd7-43df1ee22afc\">FunctionTransformer</label><div class=\"sk-toggleable__content\"><pre>FunctionTransformer(func=<function to_date at 0x7eff2ab57b80>)</pre></div></div></div></div></div></div></div></div></div></div>"
      ],
      "text/plain": [
       "ColumnTransformer(transformers=[('to int',\n",
       "                                 FunctionTransformer(func=<function to_int at 0x7eff2a32d4c0>),\n",
       "                                 ['Altitude', 'pmer', 'dd', 'u']),\n",
       "                                ('to float',\n",
       "                                 FunctionTransformer(func=<function to_float at 0x7eff2a1d6670>),\n",
       "                                 ['ff', 't', 'ssfrai', 'rr3']),\n",
       "                                ('to date',\n",
       "                                 FunctionTransformer(func=<function to_date at 0x7eff2ab57b80>),\n",
       "                                 ['date'])])"
      ]
     },
     "execution_count": 145,
     "metadata": {},
     "output_type": "execute_result"
    }
   ],
   "source": [
    "Dtyper"
   ]
  },
  {
   "cell_type": "markdown",
   "id": "df1f3b1c-0f2c-4c00-880b-4d38b1f069f0",
   "metadata": {},
   "source": [
    "# Encoders"
   ]
  },
  {
   "cell_type": "markdown",
   "id": "fe99857d-7fba-46c7-a044-5ebea82fd63a",
   "metadata": {},
   "source": [
    "## Pipeline"
   ]
  },
  {
   "cell_type": "code",
   "execution_count": 146,
   "id": "ab1e7c94-3b8b-4174-ab48-93a92ee76149",
   "metadata": {},
   "outputs": [],
   "source": [
    "# Numeric_transformer_standard\n",
    "num_transformer_standard = Pipeline([\n",
    "    ('imputer', SimpleImputer()),\n",
    "    ('scaler', StandardScaler())])"
   ]
  },
  {
   "cell_type": "code",
   "execution_count": 147,
   "id": "eb318cde-3ae4-41c9-a2d8-d4ad4bfa8df4",
   "metadata": {},
   "outputs": [],
   "source": [
    "# Numeric_transformer_robust\n",
    "num_transformer_robust = Pipeline([\n",
    "    ('imputer', SimpleImputer()),\n",
    "    ('scaler', RobustScaler())])"
   ]
  },
  {
   "cell_type": "code",
   "execution_count": 148,
   "id": "cd24cdc4-a7df-400f-873a-4d3d6298a807",
   "metadata": {},
   "outputs": [],
   "source": [
    "# Numeric_transformer_minmax\n",
    "num_transformer_minmax = Pipeline([\n",
    "    ('imputer', SimpleImputer()),\n",
    "    ('scaler', MinMaxScaler())])"
   ]
  },
  {
   "cell_type": "code",
   "execution_count": 149,
   "id": "8a221810-6874-4efc-9488-171ea2487bb9",
   "metadata": {},
   "outputs": [],
   "source": [
    "# Categorical transformer\n",
    "cat_ohe = Pipeline([\n",
    "    ('ohe', OneHotEncoder())\n",
    "])"
   ]
  },
  {
   "cell_type": "markdown",
   "id": "34ed20ed-20cb-4707-a32c-74e8cc8c567e",
   "metadata": {},
   "source": [
    "## Columns Transformer"
   ]
  },
  {
   "cell_type": "code",
   "execution_count": 150,
   "id": "ac841ac6-10d9-4688-87cd-bf67b8db9d42",
   "metadata": {},
   "outputs": [],
   "source": [
    "encoder_scaler = ColumnTransformer([\n",
    "    ('standard',num_transformer_standard,Num_col_standard),\n",
    "    ('robust',num_transformer_robust,Num_col_robust),\n",
    "    ('minmax',num_transformer_minmax,Num_col_minmax)\n",
    "])"
   ]
  },
  {
   "cell_type": "code",
   "execution_count": 151,
   "id": "005e9295-7ff4-4520-9bca-3b64571a0fd5",
   "metadata": {},
   "outputs": [
    {
     "data": {
      "text/html": [
       "<style>#sk-6bb33cf6-7748-4698-a908-e902c2c8aa9a {color: black;background-color: white;}#sk-6bb33cf6-7748-4698-a908-e902c2c8aa9a pre{padding: 0;}#sk-6bb33cf6-7748-4698-a908-e902c2c8aa9a div.sk-toggleable {background-color: white;}#sk-6bb33cf6-7748-4698-a908-e902c2c8aa9a label.sk-toggleable__label {cursor: pointer;display: block;width: 100%;margin-bottom: 0;padding: 0.2em 0.3em;box-sizing: border-box;text-align: center;}#sk-6bb33cf6-7748-4698-a908-e902c2c8aa9a div.sk-toggleable__content {max-height: 0;max-width: 0;overflow: hidden;text-align: left;background-color: #f0f8ff;}#sk-6bb33cf6-7748-4698-a908-e902c2c8aa9a div.sk-toggleable__content pre {margin: 0.2em;color: black;border-radius: 0.25em;background-color: #f0f8ff;}#sk-6bb33cf6-7748-4698-a908-e902c2c8aa9a input.sk-toggleable__control:checked~div.sk-toggleable__content {max-height: 200px;max-width: 100%;overflow: auto;}#sk-6bb33cf6-7748-4698-a908-e902c2c8aa9a div.sk-estimator input.sk-toggleable__control:checked~label.sk-toggleable__label {background-color: #d4ebff;}#sk-6bb33cf6-7748-4698-a908-e902c2c8aa9a div.sk-label input.sk-toggleable__control:checked~label.sk-toggleable__label {background-color: #d4ebff;}#sk-6bb33cf6-7748-4698-a908-e902c2c8aa9a input.sk-hidden--visually {border: 0;clip: rect(1px 1px 1px 1px);clip: rect(1px, 1px, 1px, 1px);height: 1px;margin: -1px;overflow: hidden;padding: 0;position: absolute;width: 1px;}#sk-6bb33cf6-7748-4698-a908-e902c2c8aa9a div.sk-estimator {font-family: monospace;background-color: #f0f8ff;margin: 0.25em 0.25em;border: 1px dotted black;border-radius: 0.25em;box-sizing: border-box;}#sk-6bb33cf6-7748-4698-a908-e902c2c8aa9a div.sk-estimator:hover {background-color: #d4ebff;}#sk-6bb33cf6-7748-4698-a908-e902c2c8aa9a div.sk-parallel-item::after {content: \"\";width: 100%;border-bottom: 1px solid gray;flex-grow: 1;}#sk-6bb33cf6-7748-4698-a908-e902c2c8aa9a div.sk-label:hover label.sk-toggleable__label {background-color: #d4ebff;}#sk-6bb33cf6-7748-4698-a908-e902c2c8aa9a div.sk-serial::before {content: \"\";position: absolute;border-left: 1px solid gray;box-sizing: border-box;top: 2em;bottom: 0;left: 50%;}#sk-6bb33cf6-7748-4698-a908-e902c2c8aa9a div.sk-serial {display: flex;flex-direction: column;align-items: center;background-color: white;}#sk-6bb33cf6-7748-4698-a908-e902c2c8aa9a div.sk-item {z-index: 1;}#sk-6bb33cf6-7748-4698-a908-e902c2c8aa9a div.sk-parallel {display: flex;align-items: stretch;justify-content: center;background-color: white;}#sk-6bb33cf6-7748-4698-a908-e902c2c8aa9a div.sk-parallel-item {display: flex;flex-direction: column;position: relative;background-color: white;}#sk-6bb33cf6-7748-4698-a908-e902c2c8aa9a div.sk-parallel-item:first-child::after {align-self: flex-end;width: 50%;}#sk-6bb33cf6-7748-4698-a908-e902c2c8aa9a div.sk-parallel-item:last-child::after {align-self: flex-start;width: 50%;}#sk-6bb33cf6-7748-4698-a908-e902c2c8aa9a div.sk-parallel-item:only-child::after {width: 0;}#sk-6bb33cf6-7748-4698-a908-e902c2c8aa9a div.sk-dashed-wrapped {border: 1px dashed gray;margin: 0.2em;box-sizing: border-box;padding-bottom: 0.1em;background-color: white;position: relative;}#sk-6bb33cf6-7748-4698-a908-e902c2c8aa9a div.sk-label label {font-family: monospace;font-weight: bold;background-color: white;display: inline-block;line-height: 1.2em;}#sk-6bb33cf6-7748-4698-a908-e902c2c8aa9a div.sk-label-container {position: relative;z-index: 2;text-align: center;}#sk-6bb33cf6-7748-4698-a908-e902c2c8aa9a div.sk-container {display: inline-block;position: relative;}</style><div id=\"sk-6bb33cf6-7748-4698-a908-e902c2c8aa9a\" class\"sk-top-container\"><div class=\"sk-container\"><div class=\"sk-item sk-dashed-wrapped\"><div class=\"sk-label-container\"><div class=\"sk-label sk-toggleable\"><input class=\"sk-toggleable__control sk-hidden--visually\" id=\"3d659815-f8c6-4eb4-b53f-b8235e07c2ab\" type=\"checkbox\" ><label class=\"sk-toggleable__label\" for=\"3d659815-f8c6-4eb4-b53f-b8235e07c2ab\">ColumnTransformer</label><div class=\"sk-toggleable__content\"><pre>ColumnTransformer(transformers=[('standard',\n",
       "                                 Pipeline(steps=[('imputer', SimpleImputer()),\n",
       "                                                 ('scaler', StandardScaler())]),\n",
       "                                 ['pmer', 'dd', 'ff', 't', 'u']),\n",
       "                                ('robust',\n",
       "                                 Pipeline(steps=[('imputer', SimpleImputer()),\n",
       "                                                 ('scaler', RobustScaler())]),\n",
       "                                 ['ssfrai']),\n",
       "                                ('minmax',\n",
       "                                 Pipeline(steps=[('imputer', SimpleImputer()),\n",
       "                                                 ('scaler', MinMaxScaler())]),\n",
       "                                 ['rr3'])])</pre></div></div></div><div class=\"sk-parallel\"><div class=\"sk-parallel-item\"><div class=\"sk-item\"><div class=\"sk-label-container\"><div class=\"sk-label sk-toggleable\"><input class=\"sk-toggleable__control sk-hidden--visually\" id=\"0ece186d-c9c2-4b27-bc7f-a74690c2e825\" type=\"checkbox\" ><label class=\"sk-toggleable__label\" for=\"0ece186d-c9c2-4b27-bc7f-a74690c2e825\">standard</label><div class=\"sk-toggleable__content\"><pre>['pmer', 'dd', 'ff', 't', 'u']</pre></div></div></div><div class=\"sk-serial\"><div class=\"sk-item\"><div class=\"sk-serial\"><div class=\"sk-item\"><div class=\"sk-estimator sk-toggleable\"><input class=\"sk-toggleable__control sk-hidden--visually\" id=\"47f2a263-6840-4152-a124-059b62b36610\" type=\"checkbox\" ><label class=\"sk-toggleable__label\" for=\"47f2a263-6840-4152-a124-059b62b36610\">SimpleImputer</label><div class=\"sk-toggleable__content\"><pre>SimpleImputer()</pre></div></div></div><div class=\"sk-item\"><div class=\"sk-estimator sk-toggleable\"><input class=\"sk-toggleable__control sk-hidden--visually\" id=\"e5018ab5-fdc0-4d25-9498-6bdf99a37d3b\" type=\"checkbox\" ><label class=\"sk-toggleable__label\" for=\"e5018ab5-fdc0-4d25-9498-6bdf99a37d3b\">StandardScaler</label><div class=\"sk-toggleable__content\"><pre>StandardScaler()</pre></div></div></div></div></div></div></div></div><div class=\"sk-parallel-item\"><div class=\"sk-item\"><div class=\"sk-label-container\"><div class=\"sk-label sk-toggleable\"><input class=\"sk-toggleable__control sk-hidden--visually\" id=\"60cbd880-0c8b-477a-9aa8-d0311fe7082d\" type=\"checkbox\" ><label class=\"sk-toggleable__label\" for=\"60cbd880-0c8b-477a-9aa8-d0311fe7082d\">robust</label><div class=\"sk-toggleable__content\"><pre>['ssfrai']</pre></div></div></div><div class=\"sk-serial\"><div class=\"sk-item\"><div class=\"sk-serial\"><div class=\"sk-item\"><div class=\"sk-estimator sk-toggleable\"><input class=\"sk-toggleable__control sk-hidden--visually\" id=\"a8b57b07-4b0e-450d-9a0c-ae2cdae5c524\" type=\"checkbox\" ><label class=\"sk-toggleable__label\" for=\"a8b57b07-4b0e-450d-9a0c-ae2cdae5c524\">SimpleImputer</label><div class=\"sk-toggleable__content\"><pre>SimpleImputer()</pre></div></div></div><div class=\"sk-item\"><div class=\"sk-estimator sk-toggleable\"><input class=\"sk-toggleable__control sk-hidden--visually\" id=\"8871a956-355a-4605-b3ec-011066dbe243\" type=\"checkbox\" ><label class=\"sk-toggleable__label\" for=\"8871a956-355a-4605-b3ec-011066dbe243\">RobustScaler</label><div class=\"sk-toggleable__content\"><pre>RobustScaler()</pre></div></div></div></div></div></div></div></div><div class=\"sk-parallel-item\"><div class=\"sk-item\"><div class=\"sk-label-container\"><div class=\"sk-label sk-toggleable\"><input class=\"sk-toggleable__control sk-hidden--visually\" id=\"89c8a5f8-01e3-4b2c-bf11-7ea4aab43365\" type=\"checkbox\" ><label class=\"sk-toggleable__label\" for=\"89c8a5f8-01e3-4b2c-bf11-7ea4aab43365\">minmax</label><div class=\"sk-toggleable__content\"><pre>['rr3']</pre></div></div></div><div class=\"sk-serial\"><div class=\"sk-item\"><div class=\"sk-serial\"><div class=\"sk-item\"><div class=\"sk-estimator sk-toggleable\"><input class=\"sk-toggleable__control sk-hidden--visually\" id=\"2e0cf677-53ce-4bd0-9a9a-8992cb0135d0\" type=\"checkbox\" ><label class=\"sk-toggleable__label\" for=\"2e0cf677-53ce-4bd0-9a9a-8992cb0135d0\">SimpleImputer</label><div class=\"sk-toggleable__content\"><pre>SimpleImputer()</pre></div></div></div><div class=\"sk-item\"><div class=\"sk-estimator sk-toggleable\"><input class=\"sk-toggleable__control sk-hidden--visually\" id=\"2fb33644-8330-4529-8f39-99f7e4b0655a\" type=\"checkbox\" ><label class=\"sk-toggleable__label\" for=\"2fb33644-8330-4529-8f39-99f7e4b0655a\">MinMaxScaler</label><div class=\"sk-toggleable__content\"><pre>MinMaxScaler()</pre></div></div></div></div></div></div></div></div></div></div></div></div>"
      ],
      "text/plain": [
       "ColumnTransformer(transformers=[('standard',\n",
       "                                 Pipeline(steps=[('imputer', SimpleImputer()),\n",
       "                                                 ('scaler', StandardScaler())]),\n",
       "                                 ['pmer', 'dd', 'ff', 't', 'u']),\n",
       "                                ('robust',\n",
       "                                 Pipeline(steps=[('imputer', SimpleImputer()),\n",
       "                                                 ('scaler', RobustScaler())]),\n",
       "                                 ['ssfrai']),\n",
       "                                ('minmax',\n",
       "                                 Pipeline(steps=[('imputer', SimpleImputer()),\n",
       "                                                 ('scaler', MinMaxScaler())]),\n",
       "                                 ['rr3'])])"
      ]
     },
     "execution_count": 151,
     "metadata": {},
     "output_type": "execute_result"
    }
   ],
   "source": [
    "encoder_scaler"
   ]
  },
  {
   "cell_type": "markdown",
   "id": "d1fbd5b6-5720-479f-aa86-9a28e65b1442",
   "metadata": {},
   "source": [
    "# Pipeline"
   ]
  },
  {
   "cell_type": "code",
   "execution_count": 152,
   "id": "c80d2d2b-6c3e-4263-a860-46e8d7b65a68",
   "metadata": {},
   "outputs": [],
   "source": [
    "Skypipe = Pipeline([\n",
    "    ('Selector', Selector),\n",
    "    ('dtyper', Dtyper),\n",
    "    ('encoder_scaler', encoder_scaler)\n",
    "    ])\n",
    "    "
   ]
  },
  {
   "cell_type": "code",
   "execution_count": 153,
   "id": "7ed91ad5-aa07-418a-887f-6f1eb1184cdd",
   "metadata": {},
   "outputs": [
    {
     "data": {
      "text/html": [
       "<style>#sk-5c28733c-d956-45d8-9704-0c8598871554 {color: black;background-color: white;}#sk-5c28733c-d956-45d8-9704-0c8598871554 pre{padding: 0;}#sk-5c28733c-d956-45d8-9704-0c8598871554 div.sk-toggleable {background-color: white;}#sk-5c28733c-d956-45d8-9704-0c8598871554 label.sk-toggleable__label {cursor: pointer;display: block;width: 100%;margin-bottom: 0;padding: 0.2em 0.3em;box-sizing: border-box;text-align: center;}#sk-5c28733c-d956-45d8-9704-0c8598871554 div.sk-toggleable__content {max-height: 0;max-width: 0;overflow: hidden;text-align: left;background-color: #f0f8ff;}#sk-5c28733c-d956-45d8-9704-0c8598871554 div.sk-toggleable__content pre {margin: 0.2em;color: black;border-radius: 0.25em;background-color: #f0f8ff;}#sk-5c28733c-d956-45d8-9704-0c8598871554 input.sk-toggleable__control:checked~div.sk-toggleable__content {max-height: 200px;max-width: 100%;overflow: auto;}#sk-5c28733c-d956-45d8-9704-0c8598871554 div.sk-estimator input.sk-toggleable__control:checked~label.sk-toggleable__label {background-color: #d4ebff;}#sk-5c28733c-d956-45d8-9704-0c8598871554 div.sk-label input.sk-toggleable__control:checked~label.sk-toggleable__label {background-color: #d4ebff;}#sk-5c28733c-d956-45d8-9704-0c8598871554 input.sk-hidden--visually {border: 0;clip: rect(1px 1px 1px 1px);clip: rect(1px, 1px, 1px, 1px);height: 1px;margin: -1px;overflow: hidden;padding: 0;position: absolute;width: 1px;}#sk-5c28733c-d956-45d8-9704-0c8598871554 div.sk-estimator {font-family: monospace;background-color: #f0f8ff;margin: 0.25em 0.25em;border: 1px dotted black;border-radius: 0.25em;box-sizing: border-box;}#sk-5c28733c-d956-45d8-9704-0c8598871554 div.sk-estimator:hover {background-color: #d4ebff;}#sk-5c28733c-d956-45d8-9704-0c8598871554 div.sk-parallel-item::after {content: \"\";width: 100%;border-bottom: 1px solid gray;flex-grow: 1;}#sk-5c28733c-d956-45d8-9704-0c8598871554 div.sk-label:hover label.sk-toggleable__label {background-color: #d4ebff;}#sk-5c28733c-d956-45d8-9704-0c8598871554 div.sk-serial::before {content: \"\";position: absolute;border-left: 1px solid gray;box-sizing: border-box;top: 2em;bottom: 0;left: 50%;}#sk-5c28733c-d956-45d8-9704-0c8598871554 div.sk-serial {display: flex;flex-direction: column;align-items: center;background-color: white;}#sk-5c28733c-d956-45d8-9704-0c8598871554 div.sk-item {z-index: 1;}#sk-5c28733c-d956-45d8-9704-0c8598871554 div.sk-parallel {display: flex;align-items: stretch;justify-content: center;background-color: white;}#sk-5c28733c-d956-45d8-9704-0c8598871554 div.sk-parallel-item {display: flex;flex-direction: column;position: relative;background-color: white;}#sk-5c28733c-d956-45d8-9704-0c8598871554 div.sk-parallel-item:first-child::after {align-self: flex-end;width: 50%;}#sk-5c28733c-d956-45d8-9704-0c8598871554 div.sk-parallel-item:last-child::after {align-self: flex-start;width: 50%;}#sk-5c28733c-d956-45d8-9704-0c8598871554 div.sk-parallel-item:only-child::after {width: 0;}#sk-5c28733c-d956-45d8-9704-0c8598871554 div.sk-dashed-wrapped {border: 1px dashed gray;margin: 0.2em;box-sizing: border-box;padding-bottom: 0.1em;background-color: white;position: relative;}#sk-5c28733c-d956-45d8-9704-0c8598871554 div.sk-label label {font-family: monospace;font-weight: bold;background-color: white;display: inline-block;line-height: 1.2em;}#sk-5c28733c-d956-45d8-9704-0c8598871554 div.sk-label-container {position: relative;z-index: 2;text-align: center;}#sk-5c28733c-d956-45d8-9704-0c8598871554 div.sk-container {display: inline-block;position: relative;}</style><div id=\"sk-5c28733c-d956-45d8-9704-0c8598871554\" class\"sk-top-container\"><div class=\"sk-container\"><div class=\"sk-item sk-dashed-wrapped\"><div class=\"sk-label-container\"><div class=\"sk-label sk-toggleable\"><input class=\"sk-toggleable__control sk-hidden--visually\" id=\"767cadc7-fed0-478a-9650-a6cd554f3162\" type=\"checkbox\" ><label class=\"sk-toggleable__label\" for=\"767cadc7-fed0-478a-9650-a6cd554f3162\">Pipeline</label><div class=\"sk-toggleable__content\"><pre>Pipeline(steps=[('Selector',\n",
       "                 Pipeline(steps=[('selector',\n",
       "                                  ColumnTransformer(transformers=[('selector',\n",
       "                                                                   'passthrough',\n",
       "                                                                   ['date',\n",
       "                                                                    'numer_sta',\n",
       "                                                                    'Latitude',\n",
       "                                                                    'Lontitude',\n",
       "                                                                    'Altitude',\n",
       "                                                                    'pmer',\n",
       "                                                                    'dd', 'ff',\n",
       "                                                                    't', 'u',\n",
       "                                                                    'ssfrai',\n",
       "                                                                    'rr3'])]))])),\n",
       "                ('dtyper',\n",
       "                 ColumnTransformer(transformers=[('to int',\n",
       "                                                  FunctionTransformer(func=<function to_int at 0x7eff2a32d4c0>),\n",
       "                                                  ['Altitude', 'pmer', 'dd',...\n",
       "                ('encoder_scaler',\n",
       "                 ColumnTransformer(transformers=[('standard',\n",
       "                                                  Pipeline(steps=[('imputer',\n",
       "                                                                   SimpleImputer()),\n",
       "                                                                  ('scaler',\n",
       "                                                                   StandardScaler())]),\n",
       "                                                  ['pmer', 'dd', 'ff', 't',\n",
       "                                                   'u']),\n",
       "                                                 ('robust',\n",
       "                                                  Pipeline(steps=[('imputer',\n",
       "                                                                   SimpleImputer()),\n",
       "                                                                  ('scaler',\n",
       "                                                                   RobustScaler())]),\n",
       "                                                  ['ssfrai']),\n",
       "                                                 ('minmax',\n",
       "                                                  Pipeline(steps=[('imputer',\n",
       "                                                                   SimpleImputer()),\n",
       "                                                                  ('scaler',\n",
       "                                                                   MinMaxScaler())]),\n",
       "                                                  ['rr3'])]))])</pre></div></div></div><div class=\"sk-serial\"><div class=\"sk-item\"><div class=\"sk-label-container\"><div class=\"sk-label sk-toggleable\"><input class=\"sk-toggleable__control sk-hidden--visually\" id=\"8dcfb80a-6cff-4f3c-87e6-c34cdff47fea\" type=\"checkbox\" ><label class=\"sk-toggleable__label\" for=\"8dcfb80a-6cff-4f3c-87e6-c34cdff47fea\">Selector: Pipeline</label><div class=\"sk-toggleable__content\"><pre>Pipeline(steps=[('selector',\n",
       "                 ColumnTransformer(transformers=[('selector', 'passthrough',\n",
       "                                                  ['date', 'numer_sta',\n",
       "                                                   'Latitude', 'Lontitude',\n",
       "                                                   'Altitude', 'pmer', 'dd',\n",
       "                                                   'ff', 't', 'u', 'ssfrai',\n",
       "                                                   'rr3'])]))])</pre></div></div></div><div class=\"sk-serial\"><div class=\"sk-item sk-dashed-wrapped\"><div class=\"sk-label-container\"><div class=\"sk-label sk-toggleable\"><input class=\"sk-toggleable__control sk-hidden--visually\" id=\"92378bca-e341-4da6-85a2-efb4b8575247\" type=\"checkbox\" ><label class=\"sk-toggleable__label\" for=\"92378bca-e341-4da6-85a2-efb4b8575247\">selector: ColumnTransformer</label><div class=\"sk-toggleable__content\"><pre>ColumnTransformer(transformers=[('selector', 'passthrough',\n",
       "                                 ['date', 'numer_sta', 'Latitude', 'Lontitude',\n",
       "                                  'Altitude', 'pmer', 'dd', 'ff', 't', 'u',\n",
       "                                  'ssfrai', 'rr3'])])</pre></div></div></div><div class=\"sk-parallel\"><div class=\"sk-parallel-item\"><div class=\"sk-item\"><div class=\"sk-label-container\"><div class=\"sk-label sk-toggleable\"><input class=\"sk-toggleable__control sk-hidden--visually\" id=\"ab112f64-ed5d-437b-bd52-709c2c6d4c6e\" type=\"checkbox\" ><label class=\"sk-toggleable__label\" for=\"ab112f64-ed5d-437b-bd52-709c2c6d4c6e\">selector</label><div class=\"sk-toggleable__content\"><pre>['date', 'numer_sta', 'Latitude', 'Lontitude', 'Altitude', 'pmer', 'dd', 'ff', 't', 'u', 'ssfrai', 'rr3']</pre></div></div></div><div class=\"sk-serial\"><div class=\"sk-item\"><div class=\"sk-estimator sk-toggleable\"><input class=\"sk-toggleable__control sk-hidden--visually\" id=\"101e18d2-f8d6-4fb7-8b2e-fc121b858513\" type=\"checkbox\" ><label class=\"sk-toggleable__label\" for=\"101e18d2-f8d6-4fb7-8b2e-fc121b858513\">passthrough</label><div class=\"sk-toggleable__content\"><pre>passthrough</pre></div></div></div></div></div></div></div></div></div></div><div class=\"sk-item sk-dashed-wrapped\"><div class=\"sk-label-container\"><div class=\"sk-label sk-toggleable\"><input class=\"sk-toggleable__control sk-hidden--visually\" id=\"a2a71af4-57d9-484b-9f5f-11421ecfa76e\" type=\"checkbox\" ><label class=\"sk-toggleable__label\" for=\"a2a71af4-57d9-484b-9f5f-11421ecfa76e\">dtyper: ColumnTransformer</label><div class=\"sk-toggleable__content\"><pre>ColumnTransformer(transformers=[('to int',\n",
       "                                 FunctionTransformer(func=<function to_int at 0x7eff2a32d4c0>),\n",
       "                                 ['Altitude', 'pmer', 'dd', 'u']),\n",
       "                                ('to float',\n",
       "                                 FunctionTransformer(func=<function to_float at 0x7eff2a1d6670>),\n",
       "                                 ['ff', 't', 'ssfrai', 'rr3']),\n",
       "                                ('to date',\n",
       "                                 FunctionTransformer(func=<function to_date at 0x7eff2ab57b80>),\n",
       "                                 ['date'])])</pre></div></div></div><div class=\"sk-parallel\"><div class=\"sk-parallel-item\"><div class=\"sk-item\"><div class=\"sk-label-container\"><div class=\"sk-label sk-toggleable\"><input class=\"sk-toggleable__control sk-hidden--visually\" id=\"95070966-5629-4896-addf-732228b56b15\" type=\"checkbox\" ><label class=\"sk-toggleable__label\" for=\"95070966-5629-4896-addf-732228b56b15\">to int</label><div class=\"sk-toggleable__content\"><pre>['Altitude', 'pmer', 'dd', 'u']</pre></div></div></div><div class=\"sk-serial\"><div class=\"sk-item\"><div class=\"sk-estimator sk-toggleable\"><input class=\"sk-toggleable__control sk-hidden--visually\" id=\"aad69822-9429-447d-9549-38a99cd58680\" type=\"checkbox\" ><label class=\"sk-toggleable__label\" for=\"aad69822-9429-447d-9549-38a99cd58680\">FunctionTransformer</label><div class=\"sk-toggleable__content\"><pre>FunctionTransformer(func=<function to_int at 0x7eff2a32d4c0>)</pre></div></div></div></div></div></div><div class=\"sk-parallel-item\"><div class=\"sk-item\"><div class=\"sk-label-container\"><div class=\"sk-label sk-toggleable\"><input class=\"sk-toggleable__control sk-hidden--visually\" id=\"a0c62454-7749-4aa9-8ea8-a2718aaf4b87\" type=\"checkbox\" ><label class=\"sk-toggleable__label\" for=\"a0c62454-7749-4aa9-8ea8-a2718aaf4b87\">to float</label><div class=\"sk-toggleable__content\"><pre>['ff', 't', 'ssfrai', 'rr3']</pre></div></div></div><div class=\"sk-serial\"><div class=\"sk-item\"><div class=\"sk-estimator sk-toggleable\"><input class=\"sk-toggleable__control sk-hidden--visually\" id=\"4c3d2d89-fdba-4298-b509-84605ddf9911\" type=\"checkbox\" ><label class=\"sk-toggleable__label\" for=\"4c3d2d89-fdba-4298-b509-84605ddf9911\">FunctionTransformer</label><div class=\"sk-toggleable__content\"><pre>FunctionTransformer(func=<function to_float at 0x7eff2a1d6670>)</pre></div></div></div></div></div></div><div class=\"sk-parallel-item\"><div class=\"sk-item\"><div class=\"sk-label-container\"><div class=\"sk-label sk-toggleable\"><input class=\"sk-toggleable__control sk-hidden--visually\" id=\"b5baed18-9c5a-4600-938a-6fd0687bc773\" type=\"checkbox\" ><label class=\"sk-toggleable__label\" for=\"b5baed18-9c5a-4600-938a-6fd0687bc773\">to date</label><div class=\"sk-toggleable__content\"><pre>['date']</pre></div></div></div><div class=\"sk-serial\"><div class=\"sk-item\"><div class=\"sk-estimator sk-toggleable\"><input class=\"sk-toggleable__control sk-hidden--visually\" id=\"c4bd2cd2-964c-4c0b-b1e1-4fd71102ac51\" type=\"checkbox\" ><label class=\"sk-toggleable__label\" for=\"c4bd2cd2-964c-4c0b-b1e1-4fd71102ac51\">FunctionTransformer</label><div class=\"sk-toggleable__content\"><pre>FunctionTransformer(func=<function to_date at 0x7eff2ab57b80>)</pre></div></div></div></div></div></div></div></div><div class=\"sk-item sk-dashed-wrapped\"><div class=\"sk-label-container\"><div class=\"sk-label sk-toggleable\"><input class=\"sk-toggleable__control sk-hidden--visually\" id=\"5617960b-58aa-47fa-a611-7ec086c0920c\" type=\"checkbox\" ><label class=\"sk-toggleable__label\" for=\"5617960b-58aa-47fa-a611-7ec086c0920c\">encoder_scaler: ColumnTransformer</label><div class=\"sk-toggleable__content\"><pre>ColumnTransformer(transformers=[('standard',\n",
       "                                 Pipeline(steps=[('imputer', SimpleImputer()),\n",
       "                                                 ('scaler', StandardScaler())]),\n",
       "                                 ['pmer', 'dd', 'ff', 't', 'u']),\n",
       "                                ('robust',\n",
       "                                 Pipeline(steps=[('imputer', SimpleImputer()),\n",
       "                                                 ('scaler', RobustScaler())]),\n",
       "                                 ['ssfrai']),\n",
       "                                ('minmax',\n",
       "                                 Pipeline(steps=[('imputer', SimpleImputer()),\n",
       "                                                 ('scaler', MinMaxScaler())]),\n",
       "                                 ['rr3'])])</pre></div></div></div><div class=\"sk-parallel\"><div class=\"sk-parallel-item\"><div class=\"sk-item\"><div class=\"sk-label-container\"><div class=\"sk-label sk-toggleable\"><input class=\"sk-toggleable__control sk-hidden--visually\" id=\"86e9517f-647c-47d8-8770-28557138c0e0\" type=\"checkbox\" ><label class=\"sk-toggleable__label\" for=\"86e9517f-647c-47d8-8770-28557138c0e0\">standard</label><div class=\"sk-toggleable__content\"><pre>['pmer', 'dd', 'ff', 't', 'u']</pre></div></div></div><div class=\"sk-serial\"><div class=\"sk-item\"><div class=\"sk-serial\"><div class=\"sk-item\"><div class=\"sk-estimator sk-toggleable\"><input class=\"sk-toggleable__control sk-hidden--visually\" id=\"64d843f2-2905-43f2-8ec6-2fc40281a5c7\" type=\"checkbox\" ><label class=\"sk-toggleable__label\" for=\"64d843f2-2905-43f2-8ec6-2fc40281a5c7\">SimpleImputer</label><div class=\"sk-toggleable__content\"><pre>SimpleImputer()</pre></div></div></div><div class=\"sk-item\"><div class=\"sk-estimator sk-toggleable\"><input class=\"sk-toggleable__control sk-hidden--visually\" id=\"1d88235f-940a-474a-97c4-be2c3f64da27\" type=\"checkbox\" ><label class=\"sk-toggleable__label\" for=\"1d88235f-940a-474a-97c4-be2c3f64da27\">StandardScaler</label><div class=\"sk-toggleable__content\"><pre>StandardScaler()</pre></div></div></div></div></div></div></div></div><div class=\"sk-parallel-item\"><div class=\"sk-item\"><div class=\"sk-label-container\"><div class=\"sk-label sk-toggleable\"><input class=\"sk-toggleable__control sk-hidden--visually\" id=\"ad38e70a-a1ba-43e8-9fd8-9607f6a56582\" type=\"checkbox\" ><label class=\"sk-toggleable__label\" for=\"ad38e70a-a1ba-43e8-9fd8-9607f6a56582\">robust</label><div class=\"sk-toggleable__content\"><pre>['ssfrai']</pre></div></div></div><div class=\"sk-serial\"><div class=\"sk-item\"><div class=\"sk-serial\"><div class=\"sk-item\"><div class=\"sk-estimator sk-toggleable\"><input class=\"sk-toggleable__control sk-hidden--visually\" id=\"55614092-cd19-45ee-8833-d8532945b403\" type=\"checkbox\" ><label class=\"sk-toggleable__label\" for=\"55614092-cd19-45ee-8833-d8532945b403\">SimpleImputer</label><div class=\"sk-toggleable__content\"><pre>SimpleImputer()</pre></div></div></div><div class=\"sk-item\"><div class=\"sk-estimator sk-toggleable\"><input class=\"sk-toggleable__control sk-hidden--visually\" id=\"33e9da58-83a5-4215-9961-c7e15d2ed513\" type=\"checkbox\" ><label class=\"sk-toggleable__label\" for=\"33e9da58-83a5-4215-9961-c7e15d2ed513\">RobustScaler</label><div class=\"sk-toggleable__content\"><pre>RobustScaler()</pre></div></div></div></div></div></div></div></div><div class=\"sk-parallel-item\"><div class=\"sk-item\"><div class=\"sk-label-container\"><div class=\"sk-label sk-toggleable\"><input class=\"sk-toggleable__control sk-hidden--visually\" id=\"c4b9f06c-badb-4d6e-8465-d728c0b664d9\" type=\"checkbox\" ><label class=\"sk-toggleable__label\" for=\"c4b9f06c-badb-4d6e-8465-d728c0b664d9\">minmax</label><div class=\"sk-toggleable__content\"><pre>['rr3']</pre></div></div></div><div class=\"sk-serial\"><div class=\"sk-item\"><div class=\"sk-serial\"><div class=\"sk-item\"><div class=\"sk-estimator sk-toggleable\"><input class=\"sk-toggleable__control sk-hidden--visually\" id=\"bbc4ecfc-ad17-4cb4-8826-7d6f181e0818\" type=\"checkbox\" ><label class=\"sk-toggleable__label\" for=\"bbc4ecfc-ad17-4cb4-8826-7d6f181e0818\">SimpleImputer</label><div class=\"sk-toggleable__content\"><pre>SimpleImputer()</pre></div></div></div><div class=\"sk-item\"><div class=\"sk-estimator sk-toggleable\"><input class=\"sk-toggleable__control sk-hidden--visually\" id=\"40a36c2a-8a24-4208-92da-af0ffc1944a1\" type=\"checkbox\" ><label class=\"sk-toggleable__label\" for=\"40a36c2a-8a24-4208-92da-af0ffc1944a1\">MinMaxScaler</label><div class=\"sk-toggleable__content\"><pre>MinMaxScaler()</pre></div></div></div></div></div></div></div></div></div></div></div></div></div></div>"
      ],
      "text/plain": [
       "Pipeline(steps=[('Selector',\n",
       "                 Pipeline(steps=[('selector',\n",
       "                                  ColumnTransformer(transformers=[('selector',\n",
       "                                                                   'passthrough',\n",
       "                                                                   ['date',\n",
       "                                                                    'numer_sta',\n",
       "                                                                    'Latitude',\n",
       "                                                                    'Lontitude',\n",
       "                                                                    'Altitude',\n",
       "                                                                    'pmer',\n",
       "                                                                    'dd', 'ff',\n",
       "                                                                    't', 'u',\n",
       "                                                                    'ssfrai',\n",
       "                                                                    'rr3'])]))])),\n",
       "                ('dtyper',\n",
       "                 ColumnTransformer(transformers=[('to int',\n",
       "                                                  FunctionTransformer(func=<function to_int at 0x7eff2a32d4c0>),\n",
       "                                                  ['Altitude', 'pmer', 'dd',...\n",
       "                ('encoder_scaler',\n",
       "                 ColumnTransformer(transformers=[('standard',\n",
       "                                                  Pipeline(steps=[('imputer',\n",
       "                                                                   SimpleImputer()),\n",
       "                                                                  ('scaler',\n",
       "                                                                   StandardScaler())]),\n",
       "                                                  ['pmer', 'dd', 'ff', 't',\n",
       "                                                   'u']),\n",
       "                                                 ('robust',\n",
       "                                                  Pipeline(steps=[('imputer',\n",
       "                                                                   SimpleImputer()),\n",
       "                                                                  ('scaler',\n",
       "                                                                   RobustScaler())]),\n",
       "                                                  ['ssfrai']),\n",
       "                                                 ('minmax',\n",
       "                                                  Pipeline(steps=[('imputer',\n",
       "                                                                   SimpleImputer()),\n",
       "                                                                  ('scaler',\n",
       "                                                                   MinMaxScaler())]),\n",
       "                                                  ['rr3'])]))])"
      ]
     },
     "execution_count": 153,
     "metadata": {},
     "output_type": "execute_result"
    }
   ],
   "source": [
    "Skypipe"
   ]
  },
  {
   "cell_type": "code",
   "execution_count": null,
   "id": "e73f4f89-1fd6-492b-8a69-33797df22233",
   "metadata": {},
   "outputs": [],
   "source": []
  },
  {
   "cell_type": "code",
   "execution_count": null,
   "id": "558f0471-98b5-4add-8548-c9ea5fd71660",
   "metadata": {},
   "outputs": [],
   "source": [
    "pipe.fit(X[['age']])\n",
    "    pipe.transform(X[['age']])\n",
    "    pipe.fit_transform(X[['age']])"
   ]
  },
  {
   "cell_type": "code",
   "execution_count": null,
   "id": "4dde0610-83b0-4cb1-ad05-ee37cd45a48c",
   "metadata": {},
   "outputs": [],
   "source": []
  },
  {
   "cell_type": "code",
   "execution_count": null,
   "id": "b3858606-9f64-40ee-aaf7-f93b3ee8d4f9",
   "metadata": {},
   "outputs": [],
   "source": []
  },
  {
   "cell_type": "code",
   "execution_count": null,
   "id": "b125d3d0-1f0e-48db-9a4f-ed4cbb6297b6",
   "metadata": {},
   "outputs": [],
   "source": []
  },
  {
   "cell_type": "code",
   "execution_count": null,
   "id": "c077617d-bf98-4586-89ac-8687c8389f55",
   "metadata": {},
   "outputs": [],
   "source": []
  },
  {
   "cell_type": "code",
   "execution_count": 79,
   "id": "dba72555-3f22-464a-96ae-7b35b06b6e28",
   "metadata": {},
   "outputs": [],
   "source": [
    "from sklearn.pipeline import Pipeline\n",
    "from sklearn.compose import make_column_transformer\n",
    "from sklearn.compose import make_column_selector as selector\n",
    "from sklearn.linear_model import LogisticRegression\n",
    "\n",
    "cont_prepro = Pipeline([\n",
    "    (\"imputer\",SimpleImputer(strategy = \"median\")),\n",
    "    (\"scaler\",StandardScaler())\n",
    "])\n",
    "\n",
    "cat_prepro = Pipeline([\n",
    "    (\"imputer\",SimpleImputer(strategy = \"most_frequent\")),\n",
    "    (\"encoder\",OneHotEncoder(handle_unknown = \"ignore\"))\n",
    "])\n",
    "\n",
    "preprocessing = make_column_transformer(\n",
    "    (cont_prepro,selector(dtype_exclude = \"object\")),\n",
    "    (cat_prepro,selector(dtype_include = \"object\"))\n",
    ")\n",
    "\n",
    "pipe1 = Pipeline([(\"preprocessing\",preprocessing),(\"model\",LogisticRegression())])"
   ]
  },
  {
   "cell_type": "code",
   "execution_count": 80,
   "id": "f78cd69e-1188-414c-a5f2-f92700f0cc05",
   "metadata": {},
   "outputs": [
    {
     "data": {
      "text/html": [
       "<style>#sk-1a831250-ba37-4315-808b-731a8afddcc5 {color: black;background-color: white;}#sk-1a831250-ba37-4315-808b-731a8afddcc5 pre{padding: 0;}#sk-1a831250-ba37-4315-808b-731a8afddcc5 div.sk-toggleable {background-color: white;}#sk-1a831250-ba37-4315-808b-731a8afddcc5 label.sk-toggleable__label {cursor: pointer;display: block;width: 100%;margin-bottom: 0;padding: 0.2em 0.3em;box-sizing: border-box;text-align: center;}#sk-1a831250-ba37-4315-808b-731a8afddcc5 div.sk-toggleable__content {max-height: 0;max-width: 0;overflow: hidden;text-align: left;background-color: #f0f8ff;}#sk-1a831250-ba37-4315-808b-731a8afddcc5 div.sk-toggleable__content pre {margin: 0.2em;color: black;border-radius: 0.25em;background-color: #f0f8ff;}#sk-1a831250-ba37-4315-808b-731a8afddcc5 input.sk-toggleable__control:checked~div.sk-toggleable__content {max-height: 200px;max-width: 100%;overflow: auto;}#sk-1a831250-ba37-4315-808b-731a8afddcc5 div.sk-estimator input.sk-toggleable__control:checked~label.sk-toggleable__label {background-color: #d4ebff;}#sk-1a831250-ba37-4315-808b-731a8afddcc5 div.sk-label input.sk-toggleable__control:checked~label.sk-toggleable__label {background-color: #d4ebff;}#sk-1a831250-ba37-4315-808b-731a8afddcc5 input.sk-hidden--visually {border: 0;clip: rect(1px 1px 1px 1px);clip: rect(1px, 1px, 1px, 1px);height: 1px;margin: -1px;overflow: hidden;padding: 0;position: absolute;width: 1px;}#sk-1a831250-ba37-4315-808b-731a8afddcc5 div.sk-estimator {font-family: monospace;background-color: #f0f8ff;margin: 0.25em 0.25em;border: 1px dotted black;border-radius: 0.25em;box-sizing: border-box;}#sk-1a831250-ba37-4315-808b-731a8afddcc5 div.sk-estimator:hover {background-color: #d4ebff;}#sk-1a831250-ba37-4315-808b-731a8afddcc5 div.sk-parallel-item::after {content: \"\";width: 100%;border-bottom: 1px solid gray;flex-grow: 1;}#sk-1a831250-ba37-4315-808b-731a8afddcc5 div.sk-label:hover label.sk-toggleable__label {background-color: #d4ebff;}#sk-1a831250-ba37-4315-808b-731a8afddcc5 div.sk-serial::before {content: \"\";position: absolute;border-left: 1px solid gray;box-sizing: border-box;top: 2em;bottom: 0;left: 50%;}#sk-1a831250-ba37-4315-808b-731a8afddcc5 div.sk-serial {display: flex;flex-direction: column;align-items: center;background-color: white;}#sk-1a831250-ba37-4315-808b-731a8afddcc5 div.sk-item {z-index: 1;}#sk-1a831250-ba37-4315-808b-731a8afddcc5 div.sk-parallel {display: flex;align-items: stretch;justify-content: center;background-color: white;}#sk-1a831250-ba37-4315-808b-731a8afddcc5 div.sk-parallel-item {display: flex;flex-direction: column;position: relative;background-color: white;}#sk-1a831250-ba37-4315-808b-731a8afddcc5 div.sk-parallel-item:first-child::after {align-self: flex-end;width: 50%;}#sk-1a831250-ba37-4315-808b-731a8afddcc5 div.sk-parallel-item:last-child::after {align-self: flex-start;width: 50%;}#sk-1a831250-ba37-4315-808b-731a8afddcc5 div.sk-parallel-item:only-child::after {width: 0;}#sk-1a831250-ba37-4315-808b-731a8afddcc5 div.sk-dashed-wrapped {border: 1px dashed gray;margin: 0.2em;box-sizing: border-box;padding-bottom: 0.1em;background-color: white;position: relative;}#sk-1a831250-ba37-4315-808b-731a8afddcc5 div.sk-label label {font-family: monospace;font-weight: bold;background-color: white;display: inline-block;line-height: 1.2em;}#sk-1a831250-ba37-4315-808b-731a8afddcc5 div.sk-label-container {position: relative;z-index: 2;text-align: center;}#sk-1a831250-ba37-4315-808b-731a8afddcc5 div.sk-container {display: inline-block;position: relative;}</style><div id=\"sk-1a831250-ba37-4315-808b-731a8afddcc5\" class\"sk-top-container\"><div class=\"sk-container\"><div class=\"sk-item sk-dashed-wrapped\"><div class=\"sk-label-container\"><div class=\"sk-label sk-toggleable\"><input class=\"sk-toggleable__control sk-hidden--visually\" id=\"e230b02c-e482-45a8-89c2-678625dbf275\" type=\"checkbox\" ><label class=\"sk-toggleable__label\" for=\"e230b02c-e482-45a8-89c2-678625dbf275\">Pipeline</label><div class=\"sk-toggleable__content\"><pre>Pipeline(steps=[('preprocessing',\n",
       "                 ColumnTransformer(transformers=[('pipeline-1',\n",
       "                                                  Pipeline(steps=[('imputer',\n",
       "                                                                   SimpleImputer(strategy='median')),\n",
       "                                                                  ('scaler',\n",
       "                                                                   StandardScaler())]),\n",
       "                                                  <sklearn.compose._column_transformer.make_column_selector object at 0x7eff2a3230d0>),\n",
       "                                                 ('pipeline-2',\n",
       "                                                  Pipeline(steps=[('imputer',\n",
       "                                                                   SimpleImputer(strategy='most_frequent')),\n",
       "                                                                  ('encoder',\n",
       "                                                                   OneHotEncoder(handle_unknown='ignore'))]),\n",
       "                                                  <sklearn.compose._column_transformer.make_column_selector object at 0x7eff2a3238e0>)])),\n",
       "                ('model', LogisticRegression())])</pre></div></div></div><div class=\"sk-serial\"><div class=\"sk-item sk-dashed-wrapped\"><div class=\"sk-label-container\"><div class=\"sk-label sk-toggleable\"><input class=\"sk-toggleable__control sk-hidden--visually\" id=\"13c823e5-2f12-4b2b-b875-3636542a162f\" type=\"checkbox\" ><label class=\"sk-toggleable__label\" for=\"13c823e5-2f12-4b2b-b875-3636542a162f\">preprocessing: ColumnTransformer</label><div class=\"sk-toggleable__content\"><pre>ColumnTransformer(transformers=[('pipeline-1',\n",
       "                                 Pipeline(steps=[('imputer',\n",
       "                                                  SimpleImputer(strategy='median')),\n",
       "                                                 ('scaler', StandardScaler())]),\n",
       "                                 <sklearn.compose._column_transformer.make_column_selector object at 0x7eff2a3230d0>),\n",
       "                                ('pipeline-2',\n",
       "                                 Pipeline(steps=[('imputer',\n",
       "                                                  SimpleImputer(strategy='most_frequent')),\n",
       "                                                 ('encoder',\n",
       "                                                  OneHotEncoder(handle_unknown='ignore'))]),\n",
       "                                 <sklearn.compose._column_transformer.make_column_selector object at 0x7eff2a3238e0>)])</pre></div></div></div><div class=\"sk-parallel\"><div class=\"sk-parallel-item\"><div class=\"sk-item\"><div class=\"sk-label-container\"><div class=\"sk-label sk-toggleable\"><input class=\"sk-toggleable__control sk-hidden--visually\" id=\"93413544-f0fa-4574-a61a-6044c8a5005e\" type=\"checkbox\" ><label class=\"sk-toggleable__label\" for=\"93413544-f0fa-4574-a61a-6044c8a5005e\">pipeline-1</label><div class=\"sk-toggleable__content\"><pre><sklearn.compose._column_transformer.make_column_selector object at 0x7eff2a3230d0></pre></div></div></div><div class=\"sk-serial\"><div class=\"sk-item\"><div class=\"sk-serial\"><div class=\"sk-item\"><div class=\"sk-estimator sk-toggleable\"><input class=\"sk-toggleable__control sk-hidden--visually\" id=\"f87d5df5-810b-4711-a142-aab258414bc3\" type=\"checkbox\" ><label class=\"sk-toggleable__label\" for=\"f87d5df5-810b-4711-a142-aab258414bc3\">SimpleImputer</label><div class=\"sk-toggleable__content\"><pre>SimpleImputer(strategy='median')</pre></div></div></div><div class=\"sk-item\"><div class=\"sk-estimator sk-toggleable\"><input class=\"sk-toggleable__control sk-hidden--visually\" id=\"c63b4ae9-c28d-427d-8b85-ae57fecec1c9\" type=\"checkbox\" ><label class=\"sk-toggleable__label\" for=\"c63b4ae9-c28d-427d-8b85-ae57fecec1c9\">StandardScaler</label><div class=\"sk-toggleable__content\"><pre>StandardScaler()</pre></div></div></div></div></div></div></div></div><div class=\"sk-parallel-item\"><div class=\"sk-item\"><div class=\"sk-label-container\"><div class=\"sk-label sk-toggleable\"><input class=\"sk-toggleable__control sk-hidden--visually\" id=\"c2dbbc7e-2bed-4182-8060-e75da679a182\" type=\"checkbox\" ><label class=\"sk-toggleable__label\" for=\"c2dbbc7e-2bed-4182-8060-e75da679a182\">pipeline-2</label><div class=\"sk-toggleable__content\"><pre><sklearn.compose._column_transformer.make_column_selector object at 0x7eff2a3238e0></pre></div></div></div><div class=\"sk-serial\"><div class=\"sk-item\"><div class=\"sk-serial\"><div class=\"sk-item\"><div class=\"sk-estimator sk-toggleable\"><input class=\"sk-toggleable__control sk-hidden--visually\" id=\"053f40f7-43a1-40cc-8cf5-710b244e87a7\" type=\"checkbox\" ><label class=\"sk-toggleable__label\" for=\"053f40f7-43a1-40cc-8cf5-710b244e87a7\">SimpleImputer</label><div class=\"sk-toggleable__content\"><pre>SimpleImputer(strategy='most_frequent')</pre></div></div></div><div class=\"sk-item\"><div class=\"sk-estimator sk-toggleable\"><input class=\"sk-toggleable__control sk-hidden--visually\" id=\"3f33cfd5-3d8b-4f37-8765-34e8d229d106\" type=\"checkbox\" ><label class=\"sk-toggleable__label\" for=\"3f33cfd5-3d8b-4f37-8765-34e8d229d106\">OneHotEncoder</label><div class=\"sk-toggleable__content\"><pre>OneHotEncoder(handle_unknown='ignore')</pre></div></div></div></div></div></div></div></div></div></div><div class=\"sk-item\"><div class=\"sk-estimator sk-toggleable\"><input class=\"sk-toggleable__control sk-hidden--visually\" id=\"b9f98f43-22d3-44bc-bbad-e074717d5aee\" type=\"checkbox\" ><label class=\"sk-toggleable__label\" for=\"b9f98f43-22d3-44bc-bbad-e074717d5aee\">LogisticRegression</label><div class=\"sk-toggleable__content\"><pre>LogisticRegression()</pre></div></div></div></div></div></div></div>"
      ],
      "text/plain": [
       "Pipeline(steps=[('preprocessing',\n",
       "                 ColumnTransformer(transformers=[('pipeline-1',\n",
       "                                                  Pipeline(steps=[('imputer',\n",
       "                                                                   SimpleImputer(strategy='median')),\n",
       "                                                                  ('scaler',\n",
       "                                                                   StandardScaler())]),\n",
       "                                                  <sklearn.compose._column_transformer.make_column_selector object at 0x7eff2a3230d0>),\n",
       "                                                 ('pipeline-2',\n",
       "                                                  Pipeline(steps=[('imputer',\n",
       "                                                                   SimpleImputer(strategy='most_frequent')),\n",
       "                                                                  ('encoder',\n",
       "                                                                   OneHotEncoder(handle_unknown='ignore'))]),\n",
       "                                                  <sklearn.compose._column_transformer.make_column_selector object at 0x7eff2a3238e0>)])),\n",
       "                ('model', LogisticRegression())])"
      ]
     },
     "execution_count": 80,
     "metadata": {},
     "output_type": "execute_result"
    }
   ],
   "source": [
    "pipe1"
   ]
  },
  {
   "cell_type": "code",
   "execution_count": 81,
   "id": "75304a19-6a31-4684-9ada-4b7f74279990",
   "metadata": {},
   "outputs": [],
   "source": [
    "pipe_one = Pipeline([(\"num_impute\",SimpleImputer(strategy='median')),('Std', StandardScaler())])\n",
    "\n",
    "preprocessing = make_column_transformer((pipe_one,[\"feat_1\",\"feat_2\"]),remainder='passthrough')\n",
    "\n",
    "pipe = Pipeline([(\"preprocessing\",preprocessing),(\"model\",LogisticRegression())])"
   ]
  },
  {
   "cell_type": "code",
   "execution_count": 82,
   "id": "ac7792b4-192c-484d-bc54-484c3868ae23",
   "metadata": {},
   "outputs": [
    {
     "data": {
      "text/html": [
       "<style>#sk-a19fcd3c-d6c5-4344-a11c-3a7121c0707b {color: black;background-color: white;}#sk-a19fcd3c-d6c5-4344-a11c-3a7121c0707b pre{padding: 0;}#sk-a19fcd3c-d6c5-4344-a11c-3a7121c0707b div.sk-toggleable {background-color: white;}#sk-a19fcd3c-d6c5-4344-a11c-3a7121c0707b label.sk-toggleable__label {cursor: pointer;display: block;width: 100%;margin-bottom: 0;padding: 0.2em 0.3em;box-sizing: border-box;text-align: center;}#sk-a19fcd3c-d6c5-4344-a11c-3a7121c0707b div.sk-toggleable__content {max-height: 0;max-width: 0;overflow: hidden;text-align: left;background-color: #f0f8ff;}#sk-a19fcd3c-d6c5-4344-a11c-3a7121c0707b div.sk-toggleable__content pre {margin: 0.2em;color: black;border-radius: 0.25em;background-color: #f0f8ff;}#sk-a19fcd3c-d6c5-4344-a11c-3a7121c0707b input.sk-toggleable__control:checked~div.sk-toggleable__content {max-height: 200px;max-width: 100%;overflow: auto;}#sk-a19fcd3c-d6c5-4344-a11c-3a7121c0707b div.sk-estimator input.sk-toggleable__control:checked~label.sk-toggleable__label {background-color: #d4ebff;}#sk-a19fcd3c-d6c5-4344-a11c-3a7121c0707b div.sk-label input.sk-toggleable__control:checked~label.sk-toggleable__label {background-color: #d4ebff;}#sk-a19fcd3c-d6c5-4344-a11c-3a7121c0707b input.sk-hidden--visually {border: 0;clip: rect(1px 1px 1px 1px);clip: rect(1px, 1px, 1px, 1px);height: 1px;margin: -1px;overflow: hidden;padding: 0;position: absolute;width: 1px;}#sk-a19fcd3c-d6c5-4344-a11c-3a7121c0707b div.sk-estimator {font-family: monospace;background-color: #f0f8ff;margin: 0.25em 0.25em;border: 1px dotted black;border-radius: 0.25em;box-sizing: border-box;}#sk-a19fcd3c-d6c5-4344-a11c-3a7121c0707b div.sk-estimator:hover {background-color: #d4ebff;}#sk-a19fcd3c-d6c5-4344-a11c-3a7121c0707b div.sk-parallel-item::after {content: \"\";width: 100%;border-bottom: 1px solid gray;flex-grow: 1;}#sk-a19fcd3c-d6c5-4344-a11c-3a7121c0707b div.sk-label:hover label.sk-toggleable__label {background-color: #d4ebff;}#sk-a19fcd3c-d6c5-4344-a11c-3a7121c0707b div.sk-serial::before {content: \"\";position: absolute;border-left: 1px solid gray;box-sizing: border-box;top: 2em;bottom: 0;left: 50%;}#sk-a19fcd3c-d6c5-4344-a11c-3a7121c0707b div.sk-serial {display: flex;flex-direction: column;align-items: center;background-color: white;}#sk-a19fcd3c-d6c5-4344-a11c-3a7121c0707b div.sk-item {z-index: 1;}#sk-a19fcd3c-d6c5-4344-a11c-3a7121c0707b div.sk-parallel {display: flex;align-items: stretch;justify-content: center;background-color: white;}#sk-a19fcd3c-d6c5-4344-a11c-3a7121c0707b div.sk-parallel-item {display: flex;flex-direction: column;position: relative;background-color: white;}#sk-a19fcd3c-d6c5-4344-a11c-3a7121c0707b div.sk-parallel-item:first-child::after {align-self: flex-end;width: 50%;}#sk-a19fcd3c-d6c5-4344-a11c-3a7121c0707b div.sk-parallel-item:last-child::after {align-self: flex-start;width: 50%;}#sk-a19fcd3c-d6c5-4344-a11c-3a7121c0707b div.sk-parallel-item:only-child::after {width: 0;}#sk-a19fcd3c-d6c5-4344-a11c-3a7121c0707b div.sk-dashed-wrapped {border: 1px dashed gray;margin: 0.2em;box-sizing: border-box;padding-bottom: 0.1em;background-color: white;position: relative;}#sk-a19fcd3c-d6c5-4344-a11c-3a7121c0707b div.sk-label label {font-family: monospace;font-weight: bold;background-color: white;display: inline-block;line-height: 1.2em;}#sk-a19fcd3c-d6c5-4344-a11c-3a7121c0707b div.sk-label-container {position: relative;z-index: 2;text-align: center;}#sk-a19fcd3c-d6c5-4344-a11c-3a7121c0707b div.sk-container {display: inline-block;position: relative;}</style><div id=\"sk-a19fcd3c-d6c5-4344-a11c-3a7121c0707b\" class\"sk-top-container\"><div class=\"sk-container\"><div class=\"sk-item sk-dashed-wrapped\"><div class=\"sk-label-container\"><div class=\"sk-label sk-toggleable\"><input class=\"sk-toggleable__control sk-hidden--visually\" id=\"0579da91-3b56-46da-98b2-48f66113a2a4\" type=\"checkbox\" ><label class=\"sk-toggleable__label\" for=\"0579da91-3b56-46da-98b2-48f66113a2a4\">Pipeline</label><div class=\"sk-toggleable__content\"><pre>Pipeline(steps=[('preprocessing',\n",
       "                 ColumnTransformer(remainder='passthrough',\n",
       "                                   transformers=[('pipeline',\n",
       "                                                  Pipeline(steps=[('num_impute',\n",
       "                                                                   SimpleImputer(strategy='median')),\n",
       "                                                                  ('Std',\n",
       "                                                                   StandardScaler())]),\n",
       "                                                  ['feat_1', 'feat_2'])])),\n",
       "                ('model', LogisticRegression())])</pre></div></div></div><div class=\"sk-serial\"><div class=\"sk-item sk-dashed-wrapped\"><div class=\"sk-label-container\"><div class=\"sk-label sk-toggleable\"><input class=\"sk-toggleable__control sk-hidden--visually\" id=\"ffe5ebcc-4ad8-41da-827f-47f3e1de7354\" type=\"checkbox\" ><label class=\"sk-toggleable__label\" for=\"ffe5ebcc-4ad8-41da-827f-47f3e1de7354\">preprocessing: ColumnTransformer</label><div class=\"sk-toggleable__content\"><pre>ColumnTransformer(remainder='passthrough',\n",
       "                  transformers=[('pipeline',\n",
       "                                 Pipeline(steps=[('num_impute',\n",
       "                                                  SimpleImputer(strategy='median')),\n",
       "                                                 ('Std', StandardScaler())]),\n",
       "                                 ['feat_1', 'feat_2'])])</pre></div></div></div><div class=\"sk-parallel\"><div class=\"sk-parallel-item\"><div class=\"sk-item\"><div class=\"sk-label-container\"><div class=\"sk-label sk-toggleable\"><input class=\"sk-toggleable__control sk-hidden--visually\" id=\"00fb681b-4420-44e9-b0e9-f7e517d22e35\" type=\"checkbox\" ><label class=\"sk-toggleable__label\" for=\"00fb681b-4420-44e9-b0e9-f7e517d22e35\">pipeline</label><div class=\"sk-toggleable__content\"><pre>['feat_1', 'feat_2']</pre></div></div></div><div class=\"sk-serial\"><div class=\"sk-item\"><div class=\"sk-serial\"><div class=\"sk-item\"><div class=\"sk-estimator sk-toggleable\"><input class=\"sk-toggleable__control sk-hidden--visually\" id=\"a5169534-c724-4619-965a-371a03e7d6d7\" type=\"checkbox\" ><label class=\"sk-toggleable__label\" for=\"a5169534-c724-4619-965a-371a03e7d6d7\">SimpleImputer</label><div class=\"sk-toggleable__content\"><pre>SimpleImputer(strategy='median')</pre></div></div></div><div class=\"sk-item\"><div class=\"sk-estimator sk-toggleable\"><input class=\"sk-toggleable__control sk-hidden--visually\" id=\"869d763b-697f-4a00-a88a-3ea56110d9b8\" type=\"checkbox\" ><label class=\"sk-toggleable__label\" for=\"869d763b-697f-4a00-a88a-3ea56110d9b8\">StandardScaler</label><div class=\"sk-toggleable__content\"><pre>StandardScaler()</pre></div></div></div></div></div></div></div></div><div class=\"sk-parallel-item\"><div class=\"sk-item\"><div class=\"sk-label-container\"><div class=\"sk-label sk-toggleable\"><input class=\"sk-toggleable__control sk-hidden--visually\" id=\"07caa7a2-db12-4223-b814-0c07c5673d65\" type=\"checkbox\" ><label class=\"sk-toggleable__label\" for=\"07caa7a2-db12-4223-b814-0c07c5673d65\">remainder</label><div class=\"sk-toggleable__content\"><pre></pre></div></div></div><div class=\"sk-serial\"><div class=\"sk-item\"><div class=\"sk-estimator sk-toggleable\"><input class=\"sk-toggleable__control sk-hidden--visually\" id=\"7f8c3103-9d04-42c6-a0cc-2dde3d33a943\" type=\"checkbox\" ><label class=\"sk-toggleable__label\" for=\"7f8c3103-9d04-42c6-a0cc-2dde3d33a943\">passthrough</label><div class=\"sk-toggleable__content\"><pre>passthrough</pre></div></div></div></div></div></div></div></div><div class=\"sk-item\"><div class=\"sk-estimator sk-toggleable\"><input class=\"sk-toggleable__control sk-hidden--visually\" id=\"83cf8da1-b235-463e-bda2-347d72ad6f47\" type=\"checkbox\" ><label class=\"sk-toggleable__label\" for=\"83cf8da1-b235-463e-bda2-347d72ad6f47\">LogisticRegression</label><div class=\"sk-toggleable__content\"><pre>LogisticRegression()</pre></div></div></div></div></div></div></div>"
      ],
      "text/plain": [
       "Pipeline(steps=[('preprocessing',\n",
       "                 ColumnTransformer(remainder='passthrough',\n",
       "                                   transformers=[('pipeline',\n",
       "                                                  Pipeline(steps=[('num_impute',\n",
       "                                                                   SimpleImputer(strategy='median')),\n",
       "                                                                  ('Std',\n",
       "                                                                   StandardScaler())]),\n",
       "                                                  ['feat_1', 'feat_2'])])),\n",
       "                ('model', LogisticRegression())])"
      ]
     },
     "execution_count": 82,
     "metadata": {},
     "output_type": "execute_result"
    }
   ],
   "source": [
    "pipe"
   ]
  }
 ],
 "metadata": {
  "kernelspec": {
   "display_name": "Python 3 (ipykernel)",
   "language": "python",
   "name": "python3"
  },
  "language_info": {
   "codemirror_mode": {
    "name": "ipython",
    "version": 3
   },
   "file_extension": ".py",
   "mimetype": "text/x-python",
   "name": "python",
   "nbconvert_exporter": "python",
   "pygments_lexer": "ipython3",
   "version": "3.8.6"
  }
 },
 "nbformat": 4,
 "nbformat_minor": 5
}
